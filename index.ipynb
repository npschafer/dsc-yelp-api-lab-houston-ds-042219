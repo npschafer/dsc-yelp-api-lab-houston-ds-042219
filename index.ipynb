{
 "cells": [
  {
   "cell_type": "markdown",
   "metadata": {},
   "source": [
    "# Yelp API - Lab\n",
    "\n",
    "\n",
    "## Introduction \n",
    "\n",
    "Now that we've seen how the Yelp API works and some basic Folium visualizations, it's time to put those skills to work in order to create a working map! Taking things a step further, you'll also independently explore how to perform pagination in order to retrieve a full results set from the Yelp API!\n",
    "\n",
    "## Objectives\n",
    "\n",
    "You will be able to: \n",
    "* Create HTTP requests to get data from Yelp API\n",
    "* Parse HTTP responses and perform data analysis on the data returned\n",
    "* Perform pagination to retrieve troves of data!\n",
    "* Create a simple geographical system on to view information about selected businesses, at a given location. \n",
    "\n",
    "## Problem Introduction\n",
    "\n",
    "You've now worked with some API calls, but we have yet to see how to retrieve a more complete dataset in a programmatic manner. Returning to the Yelp API, the [documentation](https://www.yelp.com/developers/documentation/v3/business_search) also provides us details regarding the API limits. These often include details about the number of requests a user is allowed to make within a specified time limit and the maximum number of results to be returned. In this case, we are told that any request has a maximum of 50 results per request and defaults to 20. Furthermore, any search will be limited to a total of 1000 results. To retrieve all 1000 of these results, we would have to page through the results piece by piece, retrieving 50 at a time. Processes such as these are often referred to as pagination.\n",
    "\n",
    "In this lab, you will define a search and then paginate over the results to retrieve all of the results. You'll then parse these responses as a DataFrame (for further exploration) and create a map using Folium to visualize the results geographically.\n",
    "\n",
    "## Part I - Make the Initial Request\n",
    "\n",
    "Start by making an initial request to the Yelp API. Your search must include at least 2 parameters: **term** and **location**. For example, you might search for pizza restaurants in NYC. The term and location is up to you, but make the request below."
   ]
  },
  {
   "cell_type": "code",
   "execution_count": 5,
   "metadata": {},
   "outputs": [],
   "source": [
    "client_id = \"WksaDnsw4SSoKEBqkyUwkQ\" #Your client ID goes here (as a string)\n",
    "api_key = \"Ie1oWbJxzj8IAn348fY_pqYlPmjgwWNcBtP793ZsHmZOfRgohOHfHf0z2JKunKwdgTU90hEYpQF32KqY3y2ck_eqHJ_TEU8YqmJwgHAWMhkpL1tcI6xuNRKusObZXHYx\" #Your api key goes here (as a string)"
   ]
  },
  {
   "cell_type": "code",
   "execution_count": 6,
   "metadata": {},
   "outputs": [],
   "source": [
    "import requests"
   ]
  },
  {
   "cell_type": "code",
   "execution_count": 7,
   "metadata": {},
   "outputs": [
    {
     "name": "stdout",
     "output_type": "stream",
     "text": [
      "<Response [200]>\n",
      "<class 'str'>\n",
      "{\"businesses\": [{\"id\": \"l4fwf8VwAokv3MWT45Ab7g\", \"alias\": \"bunna-cafe-brooklyn\", \"name\": \"Bunna Cafe\", \"image_url\": \"https://s3-media4.fl.yelpcdn.com/bphoto/jGKIcCZ2lx23kKX2YRug7g/o.jpg\", \"is_closed\": false, \"url\": \"https://www.yelp.com/biz/bunna-cafe-brooklyn?adjust_creative=WksaDnsw4SSoKEBqkyUwkQ&utm_campaign=yelp_api_v3&utm_medium=api_v3_business_search&utm_source=WksaDnsw4SSoKEBqkyUwkQ\", \"review_count\": 528, \"categories\": [{\"alias\": \"ethiopian\", \"title\": \"Ethiopian\"}, {\"alias\": \"vegan\", \"title\": \"Vegan\"}, {\"alias\": \"african\", \"title\": \"African\"}], \"rating\": 4.5, \"coordinates\": {\"latitude\": 40.705042, \"longitude\": -73.928078}, \"transactions\": [\"delivery\", \"pickup\"], \"price\": \"$$\", \"location\": {\"address1\": \"1084 Flushing Ave\", \"address2\": \"\", \"address3\": \"\", \"city\": \"Brooklyn\", \"zip_code\": \"11237\", \"country\": \"US\", \"state\": \"NY\", \"display_address\": [\"1084 Flushing Ave\", \"Brooklyn, NY 11237\"]}, \"phone\": \"+13472952227\", \"display_phone\": \"(347) 295-2227\", \"distance\": 5581.722287316518},\n"
     ]
    }
   ],
   "source": [
    "term = 'salata'\n",
    "location = 'New York NY'\n",
    "\n",
    "url = 'https://api.yelp.com/v3/businesses/search'\n",
    "\n",
    "headers = {\n",
    "        'Authorization': 'Bearer {}'.format(api_key),\n",
    "    }\n",
    "\n",
    "url_params = {\n",
    "                'term': term.replace(' ', '+'),\n",
    "                'location': location.replace(' ', '+'),\n",
    "            }\n",
    "response = requests.get(url, headers=headers, params=url_params)\n",
    "print(response)\n",
    "print(type(response.text))\n",
    "print(response.text[:1000])"
   ]
  },
  {
   "cell_type": "markdown",
   "metadata": {},
   "source": [
    "## Pagination\n",
    "\n",
    "Now that you have an initial response, you can examine the contents of the json container. For example, you might start with ```response.json().keys()```. Here, you'll see a key for `'total'`, which tells you the full number of matching results given your query parameters. Write a loop (or ideally a function) which then makes successive API calls using the offset parameter to retrieve all of the results (or 5000 for a particularly large result set) for the original query. As you do this, be mindful of how you store the data. Your final goal will be to reformat the data concerning the businesses themselves into a pandas DataFrame from the json objects.\n",
    "\n",
    "**Note: be mindful of the API rate limits. You can only make 5000 requests per day, and are also can make requests too fast. Start prototyping small before running a loop that could be faulty. You can also use time.sleep(n) to add delays. For more details see https://www.yelp.com/developers/documentation/v3/rate_limiting.**"
   ]
  },
  {
   "cell_type": "code",
   "execution_count": 8,
   "metadata": {},
   "outputs": [
    {
     "data": {
      "text/plain": [
       "dict_keys(['businesses', 'total', 'region'])"
      ]
     },
     "execution_count": 8,
     "metadata": {},
     "output_type": "execute_result"
    }
   ],
   "source": [
    "response.json().keys()"
   ]
  },
  {
   "cell_type": "code",
   "execution_count": 9,
   "metadata": {},
   "outputs": [
    {
     "data": {
      "text/plain": [
       "2000"
      ]
     },
     "execution_count": 9,
     "metadata": {},
     "output_type": "execute_result"
    }
   ],
   "source": [
    "response.json()['total']"
   ]
  },
  {
   "cell_type": "code",
   "execution_count": 10,
   "metadata": {},
   "outputs": [],
   "source": [
    "businesses = dict(response.json())"
   ]
  },
  {
   "cell_type": "code",
   "execution_count": 11,
   "metadata": {},
   "outputs": [
    {
     "data": {
      "text/plain": [
       "3"
      ]
     },
     "execution_count": 11,
     "metadata": {},
     "output_type": "execute_result"
    }
   ],
   "source": [
    "len(businesses)"
   ]
  },
  {
   "cell_type": "code",
   "execution_count": 12,
   "metadata": {},
   "outputs": [
    {
     "data": {
      "text/plain": [
       "dict_keys(['businesses', 'total', 'region'])"
      ]
     },
     "execution_count": 12,
     "metadata": {},
     "output_type": "execute_result"
    }
   ],
   "source": [
    "businesses.keys()"
   ]
  },
  {
   "cell_type": "code",
   "execution_count": 13,
   "metadata": {},
   "outputs": [
    {
     "data": {
      "text/plain": [
       "20"
      ]
     },
     "execution_count": 13,
     "metadata": {},
     "output_type": "execute_result"
    }
   ],
   "source": [
    "len(businesses['businesses'])"
   ]
  },
  {
   "cell_type": "code",
   "execution_count": 14,
   "metadata": {},
   "outputs": [],
   "source": [
    "import time"
   ]
  },
  {
   "cell_type": "code",
   "execution_count": 15,
   "metadata": {},
   "outputs": [],
   "source": [
    "def query_yelp_businesses(search_term, search_location, api_key, offset=0, time_to_wait=5):\n",
    "    term = search_term\n",
    "    location = search_location\n",
    "\n",
    "    url = 'https://api.yelp.com/v3/businesses/search'\n",
    "\n",
    "    headers = {\n",
    "            'Authorization': 'Bearer {}'.format(api_key),\n",
    "        }\n",
    "\n",
    "    url_params = {\n",
    "                    'term': term.replace(' ', '+'),\n",
    "                    'location': location.replace(' ', '+'),\n",
    "                    'offset': offset\n",
    "                }\n",
    "    response = requests.get(url, headers=headers, params=url_params)\n",
    "    time.sleep(time_to_wait)\n",
    "    \n",
    "    return response"
   ]
  },
  {
   "cell_type": "code",
   "execution_count": 16,
   "metadata": {},
   "outputs": [
    {
     "data": {
      "text/plain": [
       "74"
      ]
     },
     "execution_count": 16,
     "metadata": {},
     "output_type": "execute_result"
    }
   ],
   "source": [
    "response = query_yelp_businesses(\"salata\", \"Omaha NE\", api_key, offset=0)\n",
    "dict(response.json())['total']"
   ]
  },
  {
   "cell_type": "code",
   "execution_count": 17,
   "metadata": {},
   "outputs": [],
   "source": [
    "response = query_yelp_businesses(\"salata\", \"Omaha NE\", api_key, offset=0)\n",
    "# Get the total number of responses\n",
    "total = dict(response.json())['total']\n",
    "\n",
    "offset = 0\n",
    "responses = []\n",
    "while offset < total:\n",
    "    responses.append(query_yelp_businesses(\"salata\", \"Omaha NE\", api_key, offset=offset))\n",
    "    offset += 50"
   ]
  },
  {
   "cell_type": "code",
   "execution_count": 18,
   "metadata": {},
   "outputs": [
    {
     "data": {
      "text/plain": [
       "2"
      ]
     },
     "execution_count": 18,
     "metadata": {},
     "output_type": "execute_result"
    }
   ],
   "source": [
    "len(responses)"
   ]
  },
  {
   "cell_type": "code",
   "execution_count": 19,
   "metadata": {},
   "outputs": [
    {
     "name": "stdout",
     "output_type": "stream",
     "text": [
      "dict_keys(['id', 'alias', 'name', 'image_url', 'is_closed', 'url', 'review_count', 'categories', 'rating', 'coordinates', 'transactions', 'location', 'phone', 'display_phone', 'distance'])\n",
      "dict_keys(['id', 'alias', 'name', 'image_url', 'is_closed', 'url', 'review_count', 'categories', 'rating', 'coordinates', 'transactions', 'price', 'location', 'phone', 'display_phone', 'distance'])\n"
     ]
    }
   ],
   "source": [
    "for response in responses:\n",
    "    print(dict(response.json())['businesses'][0].keys())"
   ]
  },
  {
   "cell_type": "code",
   "execution_count": 20,
   "metadata": {},
   "outputs": [
    {
     "name": "stdout",
     "output_type": "stream",
     "text": [
      "Chaikhana {'latitude': 41.280014, 'longitude': -96.052444} {'address1': '2329 North 90th St', 'address2': '', 'address3': None, 'city': 'Omaha', 'zip_code': '68134', 'country': 'US', 'state': 'NE', 'display_address': ['2329 North 90th St', 'Omaha, NE 68134']}\n",
      "Clever Greens {'latitude': 41.267346, 'longitude': -96.068935} {'address1': '10000 California St', 'address2': '', 'address3': None, 'city': 'Omaha', 'zip_code': '68114', 'country': 'US', 'state': 'NE', 'display_address': ['10000 California St', 'Omaha, NE 68114']}\n",
      "McAlister's Deli {'latitude': 41.25564, 'longitude': -96.0234} {'address1': '603 S 72nd St', 'address2': '', 'address3': None, 'city': 'Omaha', 'zip_code': '68106', 'country': 'US', 'state': 'NE', 'display_address': ['603 S 72nd St', 'Omaha, NE 68106']}\n",
      "Pickleman's Gourmet Cafe {'latitude': 41.2413355, 'longitude': -96.0147649} {'address1': '1908 S. 67th St', 'address2': '', 'address3': '', 'city': 'Omaha', 'zip_code': '68106', 'country': 'US', 'state': 'NE', 'display_address': ['1908 S. 67th St', 'Omaha, NE 68106']}\n",
      "Potbelly Sandwich Shop {'latitude': 41.25925, 'longitude': -96.028502} {'address1': '7425 Dodge St', 'address2': 'Ste 101', 'address3': '', 'city': 'Omaha', 'zip_code': '68114', 'country': 'US', 'state': 'NE', 'display_address': ['7425 Dodge St', 'Ste 101', 'Omaha, NE 68114']}\n",
      "Pickleman's Gourmet Cafe {'latitude': 41.25743, 'longitude': -95.9606} {'address1': '3201 Farnam St', 'address2': 'Ste 6104', 'address3': None, 'city': 'Omaha', 'zip_code': '68131', 'country': 'US', 'state': 'NE', 'display_address': ['3201 Farnam St', 'Ste 6104', 'Omaha, NE 68131']}\n",
      "Panera Bread {'latitude': 41.263966799353, 'longitude': -96.1066703261096} {'address1': '12412 W Dodge Rd', 'address2': '', 'address3': None, 'city': 'Omaha', 'zip_code': '68154', 'country': 'US', 'state': 'NE', 'display_address': ['12412 W Dodge Rd', 'Omaha, NE 68154']}\n",
      "Potbelly Sandwich Shop {'latitude': 41.278109, 'longitude': -96.099234} {'address1': '2056 N 117th Ave', 'address2': 'Ste A-1', 'address3': '', 'city': 'Omaha', 'zip_code': '68164', 'country': 'US', 'state': 'NE', 'display_address': ['2056 N 117th Ave', 'Ste A-1', 'Omaha, NE 68164']}\n",
      "Freshii {'latitude': 41.23868, 'longitude': -96.01604} {'address1': '6750 Mercy Rd', 'address2': 'Ste 5', 'address3': '', 'city': 'Omaha', 'zip_code': '68106', 'country': 'US', 'state': 'NE', 'display_address': ['6750 Mercy Rd', 'Ste 5', 'Omaha, NE 68106']}\n",
      "Pickleman's Gourmet Cafe {'latitude': 41.2618443, 'longitude': -96.0911049} {'address1': '370 North 114th St', 'address2': '', 'address3': None, 'city': 'Omaha', 'zip_code': '68154', 'country': 'US', 'state': 'NE', 'display_address': ['370 North 114th St', 'Omaha, NE 68154']}\n",
      "Jason's Deli {'latitude': 41.21297, 'longitude': -96.1058} {'address1': '12320 L St', 'address2': None, 'address3': None, 'city': 'Omaha', 'zip_code': '68137', 'country': 'US', 'state': 'NE', 'display_address': ['12320 L St', 'Omaha, NE 68137']}\n",
      "Greenbelly {'latitude': 41.259372, 'longitude': -96.091536} {'address1': '210 N 114th St', 'address2': '', 'address3': '', 'city': 'Omaha', 'zip_code': '68154', 'country': 'US', 'state': 'NE', 'display_address': ['210 N 114th St', 'Omaha, NE 68154']}\n",
      "Amateur Coffee {'latitude': 41.2678251, 'longitude': -95.9717179} {'address1': '3913 Cuming St', 'address2': '', 'address3': None, 'city': 'Omaha', 'zip_code': '68131', 'country': 'US', 'state': 'NE', 'display_address': ['3913 Cuming St', 'Omaha, NE 68131']}\n",
      "Richie's Chicken & Hamburger {'latitude': 41.24177, 'longitude': -95.96495} {'address1': '3528 Center St', 'address2': '', 'address3': '', 'city': 'Omaha', 'zip_code': '68105', 'country': 'US', 'state': 'NE', 'display_address': ['3528 Center St', 'Omaha, NE 68105']}\n",
      "PepperJax Grill {'latitude': 41.2980693, 'longitude': -96.0231903} {'address1': '4303 N 72nd St', 'address2': None, 'address3': None, 'city': 'Omaha', 'zip_code': '68134', 'country': 'US', 'state': 'NE', 'display_address': ['4303 N 72nd St', 'Omaha, NE 68134']}\n",
      "Jason's Deli {'latitude': 41.2602, 'longitude': -96.02083} {'address1': '7010 Dodge St', 'address2': 'Ste 101', 'address3': None, 'city': 'Omaha', 'zip_code': '68132', 'country': 'US', 'state': 'NE', 'display_address': ['7010 Dodge St', 'Ste 101', 'Omaha, NE 68132']}\n",
      "Panera Bread {'latitude': 41.258992, 'longitude': -96.036703} {'address1': '7825 Dodge St', 'address2': '', 'address3': '', 'city': 'Omaha', 'zip_code': '68114', 'country': 'US', 'state': 'NE', 'display_address': ['7825 Dodge St', 'Omaha, NE 68114']}\n",
      "Flagship Commons {'latitude': 41.266907, 'longitude': -96.069473} {'address1': '10000 California St', 'address2': 'Ste FC1', 'address3': None, 'city': 'Omaha', 'zip_code': '68114', 'country': 'US', 'state': 'NE', 'display_address': ['10000 California St', 'Ste FC1', 'Omaha, NE 68114']}\n",
      "Olive Garden Italian Restaurant {'latitude': 41.2592321068242, 'longitude': -96.0289016116028} {'address1': '7505 Dodge St', 'address2': '', 'address3': '', 'city': 'Omaha', 'zip_code': '68114', 'country': 'US', 'state': 'NE', 'display_address': ['7505 Dodge St', 'Omaha, NE 68114']}\n",
      "Noodles & Company {'latitude': 41.2639660574575, 'longitude': -96.1177714969176} {'address1': '13110 West Dodge', 'address2': '', 'address3': '', 'city': 'Omaha', 'zip_code': '68154', 'country': 'US', 'state': 'NE', 'display_address': ['13110 West Dodge', 'Omaha, NE 68154']}\n",
      "Benson Brewery {'latitude': 41.2846964, 'longitude': -96.00642} {'address1': '6059 Maple St', 'address2': None, 'address3': '', 'city': 'Omaha', 'zip_code': '68104', 'country': 'US', 'state': 'NE', 'display_address': ['6059 Maple St', 'Omaha, NE 68104']}\n",
      "China Palace {'latitude': 41.2663445, 'longitude': -95.9828362} {'address1': '661 N 46th St', 'address2': '', 'address3': '', 'city': 'Omaha', 'zip_code': '68132', 'country': 'US', 'state': 'NE', 'display_address': ['661 N 46th St', 'Omaha, NE 68132']}\n",
      "Potbelly Sandwich Shop {'latitude': 41.17562, 'longitude': -96.022999} {'address1': '8350 S 71st Plz', 'address2': 'Ste 107', 'address3': '', 'city': 'Papillion', 'zip_code': '68133', 'country': 'US', 'state': 'NE', 'display_address': ['8350 S 71st Plz', 'Ste 107', 'Papillion, NE 68133']}\n",
      "Three Happiness Express {'latitude': 41.2522451, 'longitude': -95.993022} {'address1': '5107 Leavenworth Ave', 'address2': None, 'address3': '', 'city': 'Omaha', 'zip_code': '68106', 'country': 'US', 'state': 'NE', 'display_address': ['5107 Leavenworth Ave', 'Omaha, NE 68106']}\n",
      "Panera Bread {'latitude': 41.2944139937849, 'longitude': -96.1229145526886} {'address1': '13410 W Maple Rd', 'address2': '', 'address3': '', 'city': 'Omaha', 'zip_code': '68164', 'country': 'US', 'state': 'NE', 'display_address': ['13410 W Maple Rd', 'Omaha, NE 68164']}\n",
      "Modern Love {'latitude': 41.2574946036826, 'longitude': -95.9586532642792} {'address1': '3157 Farnam St', 'address2': 'Ste 7113', 'address3': None, 'city': 'Omaha', 'zip_code': '68131', 'country': 'US', 'state': 'NE', 'display_address': ['3157 Farnam St', 'Ste 7113', 'Omaha, NE 68131']}\n",
      "Pitch {'latitude': 41.2584192926889, 'longitude': -96.1928169429302} {'address1': '17808 Burke St', 'address2': '', 'address3': '', 'city': 'Omaha', 'zip_code': '68118', 'country': 'US', 'state': 'NE', 'display_address': ['17808 Burke St', 'Omaha, NE 68118']}\n",
      "P.F. Chang's {'latitude': 41.2644860827365, 'longitude': -96.0704590287219} {'address1': '10150 California St', 'address2': '', 'address3': '', 'city': 'Omaha', 'zip_code': '68114', 'country': 'US', 'state': 'NE', 'display_address': ['10150 California St', 'Omaha, NE 68114']}\n",
      "China 1 {'latitude': 41.2865742, 'longitude': -96.0812619} {'address1': '3125 N 108th St', 'address2': None, 'address3': None, 'city': 'Omaha', 'zip_code': '68164', 'country': 'US', 'state': 'NE', 'display_address': ['3125 N 108th St', 'Omaha, NE 68164']}\n",
      "Nice Noodles {'latitude': 41.2582869357046, 'longitude': -95.937761025761} {'address1': '210 S 16th St', 'address2': '', 'address3': None, 'city': 'Omaha', 'zip_code': '68102', 'country': 'US', 'state': 'NE', 'display_address': ['210 S 16th St', 'Omaha, NE 68102']}\n",
      "Panera Bread {'latitude': 41.2346742556284, 'longitude': -96.1934093945092} {'address1': '17730 W Center Rd', 'address2': '', 'address3': '', 'city': 'Omaha', 'zip_code': '68130', 'country': 'US', 'state': 'NE', 'display_address': ['17730 W Center Rd', 'Omaha, NE 68130']}\n",
      "Panera Bread {'latitude': 41.172576, 'longitude': -96.023002} {'address1': '8650 S 71st Plz', 'address2': '', 'address3': '', 'city': 'Papillion', 'zip_code': '68133', 'country': 'US', 'state': 'NE', 'display_address': ['8650 S 71st Plz', 'Papillion, NE 68133']}\n",
      "Billy Frogg's Grill & Bar {'latitude': 41.2556828006576, 'longitude': -95.9314487706499} {'address1': '1120 Howard St', 'address2': '', 'address3': '', 'city': 'Omaha', 'zip_code': '68102', 'country': 'US', 'state': 'NE', 'display_address': ['1120 Howard St', 'Omaha, NE 68102']}\n",
      "El Vallarta {'latitude': 41.1773598959974, 'longitude': -96.0417694160602} {'address1': '8045 S 83rd Ave', 'address2': '', 'address3': '', 'city': 'La Vista', 'zip_code': '68128', 'country': 'US', 'state': 'NE', 'display_address': ['8045 S 83rd Ave', 'La Vista, NE 68128']}\n",
      "Apple Barrel Restaurant {'latitude': 41.235649624557, 'longitude': -95.8799898901882} {'address1': '2608 S 24th St', 'address2': '', 'address3': None, 'city': 'Council Bluffs', 'zip_code': '51501', 'country': 'US', 'state': 'IA', 'display_address': ['2608 S 24th St', 'Council Bluffs, IA 51501']}\n",
      "McAlister's Deli {'latitude': 41.2204231, 'longitude': -95.8372736} {'address1': '3808 Metro Drive', 'address2': None, 'address3': None, 'city': 'Council Bluffs', 'zip_code': '51051', 'country': 'US', 'state': 'IA', 'display_address': ['3808 Metro Drive', 'Council Bluffs, IA 51051']}\n",
      "Ollie and Hobbes Craft Kitchen {'latitude': 41.1376652866602, 'longitude': -96.040360853076} {'address1': '310 E Gold Coast Rd', 'address2': '', 'address3': None, 'city': 'Papillion', 'zip_code': '68046', 'country': 'US', 'state': 'NE', 'display_address': ['310 E Gold Coast Rd', 'Papillion, NE 68046']}\n",
      "Olive Garden Italian Restaurant {'latitude': 41.2225899, 'longitude': -95.83615} {'address1': '3707 Denmark Dr', 'address2': '', 'address3': '', 'city': 'Council Bluffs', 'zip_code': '51501', 'country': 'US', 'state': 'IA', 'display_address': ['3707 Denmark Dr', 'Council Bluffs, IA 51501']}\n",
      "Eat Fit Go Council Bluffs {'latitude': 41.219976, 'longitude': -95.837239} {'address1': '3808 Metro Dr', 'address2': 'Ste 102', 'address3': None, 'city': 'Council Bluffs', 'zip_code': '51501', 'country': 'US', 'state': 'IA', 'display_address': ['3808 Metro Dr', 'Ste 102', 'Council Bluffs, IA 51501']}\n",
      "Panera Bread {'latitude': 41.2237678486907, 'longitude': -95.8372892439911} {'address1': '3617 Denmark Dr', 'address2': '', 'address3': '', 'city': 'Council Bluffs', 'zip_code': '51501', 'country': 'US', 'state': 'IA', 'display_address': ['3617 Denmark Dr', 'Council Bluffs, IA 51501']}\n"
     ]
    }
   ],
   "source": [
    "for response in responses:\n",
    "    json_dict = dict(response.json())\n",
    "    business_list = json_dict['businesses']\n",
    "    for business in business_list:\n",
    "        print(f\"{business['name']} {business['coordinates']} {business['location']}\")"
   ]
  },
  {
   "cell_type": "code",
   "execution_count": 21,
   "metadata": {},
   "outputs": [],
   "source": [
    "import pandas as pd"
   ]
  },
  {
   "cell_type": "code",
   "execution_count": 22,
   "metadata": {},
   "outputs": [],
   "source": [
    "dfs = []\n",
    "for response in responses:\n",
    "    json_dict = dict(response.json())['businesses']\n",
    "    dfs.append(pd.DataFrame.from_dict(json_dict))"
   ]
  },
  {
   "cell_type": "code",
   "execution_count": 23,
   "metadata": {},
   "outputs": [],
   "source": [
    "df = pd.concat(dfs)"
   ]
  },
  {
   "cell_type": "code",
   "execution_count": 24,
   "metadata": {},
   "outputs": [],
   "source": [
    "df.reset_index(inplace=True)"
   ]
  },
  {
   "cell_type": "code",
   "execution_count": 25,
   "metadata": {},
   "outputs": [
    {
     "data": {
      "text/html": [
       "<div>\n",
       "<style scoped>\n",
       "    .dataframe tbody tr th:only-of-type {\n",
       "        vertical-align: middle;\n",
       "    }\n",
       "\n",
       "    .dataframe tbody tr th {\n",
       "        vertical-align: top;\n",
       "    }\n",
       "\n",
       "    .dataframe thead th {\n",
       "        text-align: right;\n",
       "    }\n",
       "</style>\n",
       "<table border=\"1\" class=\"dataframe\">\n",
       "  <thead>\n",
       "    <tr style=\"text-align: right;\">\n",
       "      <th></th>\n",
       "      <th>index</th>\n",
       "      <th>alias</th>\n",
       "      <th>categories</th>\n",
       "      <th>coordinates</th>\n",
       "      <th>display_phone</th>\n",
       "      <th>distance</th>\n",
       "      <th>id</th>\n",
       "      <th>image_url</th>\n",
       "      <th>is_closed</th>\n",
       "      <th>location</th>\n",
       "      <th>name</th>\n",
       "      <th>phone</th>\n",
       "      <th>price</th>\n",
       "      <th>rating</th>\n",
       "      <th>review_count</th>\n",
       "      <th>transactions</th>\n",
       "      <th>url</th>\n",
       "    </tr>\n",
       "  </thead>\n",
       "  <tbody>\n",
       "    <tr>\n",
       "      <th>0</th>\n",
       "      <td>0</td>\n",
       "      <td>chaikhana-omaha-2</td>\n",
       "      <td>[{'alias': 'mideastern', 'title': 'Middle East...</td>\n",
       "      <td>{'latitude': 41.280014, 'longitude': -96.052444}</td>\n",
       "      <td>(402) 979-5555</td>\n",
       "      <td>3374.978928</td>\n",
       "      <td>-4KRC6WFFyhkc6loJ8PbPQ</td>\n",
       "      <td>https://s3-media2.fl.yelpcdn.com/bphoto/FOSJXJ...</td>\n",
       "      <td>False</td>\n",
       "      <td>{'address1': '2329 North 90th St', 'address2':...</td>\n",
       "      <td>Chaikhana</td>\n",
       "      <td>+14029795555</td>\n",
       "      <td>NaN</td>\n",
       "      <td>5.0</td>\n",
       "      <td>20</td>\n",
       "      <td>[pickup, delivery]</td>\n",
       "      <td>https://www.yelp.com/biz/chaikhana-omaha-2?adj...</td>\n",
       "    </tr>\n",
       "    <tr>\n",
       "      <th>1</th>\n",
       "      <td>1</td>\n",
       "      <td>clever-greens-omaha-3</td>\n",
       "      <td>[{'alias': 'salad', 'title': 'Salad'}, {'alias...</td>\n",
       "      <td>{'latitude': 41.267346, 'longitude': -96.068935}</td>\n",
       "      <td>(402) 932-9993</td>\n",
       "      <td>2551.183928</td>\n",
       "      <td>4BIsuRQsn7kd3aoI-b2cNw</td>\n",
       "      <td>https://s3-media2.fl.yelpcdn.com/bphoto/R-eX0O...</td>\n",
       "      <td>False</td>\n",
       "      <td>{'address1': '10000 California St', 'address2'...</td>\n",
       "      <td>Clever Greens</td>\n",
       "      <td>+14029329993</td>\n",
       "      <td>NaN</td>\n",
       "      <td>5.0</td>\n",
       "      <td>1</td>\n",
       "      <td>[]</td>\n",
       "      <td>https://www.yelp.com/biz/clever-greens-omaha-3...</td>\n",
       "    </tr>\n",
       "    <tr>\n",
       "      <th>2</th>\n",
       "      <td>2</td>\n",
       "      <td>mcalisters-deli-omaha-3</td>\n",
       "      <td>[{'alias': 'sandwiches', 'title': 'Sandwiches'...</td>\n",
       "      <td>{'latitude': 41.25564, 'longitude': -96.0234}</td>\n",
       "      <td>(402) 403-3207</td>\n",
       "      <td>2272.383747</td>\n",
       "      <td>GNORyEcFCHxV76oWw40iPw</td>\n",
       "      <td>https://s3-media2.fl.yelpcdn.com/bphoto/qV4Mi3...</td>\n",
       "      <td>False</td>\n",
       "      <td>{'address1': '603 S 72nd St', 'address2': '', ...</td>\n",
       "      <td>McAlister's Deli</td>\n",
       "      <td>+14024033207</td>\n",
       "      <td>NaN</td>\n",
       "      <td>4.5</td>\n",
       "      <td>5</td>\n",
       "      <td>[]</td>\n",
       "      <td>https://www.yelp.com/biz/mcalisters-deli-omaha...</td>\n",
       "    </tr>\n",
       "    <tr>\n",
       "      <th>3</th>\n",
       "      <td>3</td>\n",
       "      <td>picklemans-gourmet-cafe-omaha-2</td>\n",
       "      <td>[{'alias': 'salad', 'title': 'Salad'}, {'alias...</td>\n",
       "      <td>{'latitude': 41.2413355, 'longitude': -96.0147...</td>\n",
       "      <td>(402) 991-6700</td>\n",
       "      <td>3031.474998</td>\n",
       "      <td>-_b05yaenT2h0kIEzWDTpg</td>\n",
       "      <td>https://s3-media4.fl.yelpcdn.com/bphoto/pJguB5...</td>\n",
       "      <td>False</td>\n",
       "      <td>{'address1': '1908 S. 67th St', 'address2': ''...</td>\n",
       "      <td>Pickleman's Gourmet Cafe</td>\n",
       "      <td>+14029916700</td>\n",
       "      <td>$</td>\n",
       "      <td>4.0</td>\n",
       "      <td>40</td>\n",
       "      <td>[]</td>\n",
       "      <td>https://www.yelp.com/biz/picklemans-gourmet-ca...</td>\n",
       "    </tr>\n",
       "    <tr>\n",
       "      <th>4</th>\n",
       "      <td>4</td>\n",
       "      <td>potbelly-sandwich-shop-omaha-2</td>\n",
       "      <td>[{'alias': 'sandwiches', 'title': 'Sandwiches'...</td>\n",
       "      <td>{'latitude': 41.25925, 'longitude': -96.028502}</td>\n",
       "      <td>(402) 884-9947</td>\n",
       "      <td>2037.631829</td>\n",
       "      <td>RYH88hL_cMqQ2zrhWkmavg</td>\n",
       "      <td>https://s3-media4.fl.yelpcdn.com/bphoto/d_Xn5c...</td>\n",
       "      <td>False</td>\n",
       "      <td>{'address1': '7425 Dodge St', 'address2': 'Ste...</td>\n",
       "      <td>Potbelly Sandwich Shop</td>\n",
       "      <td>+14028849947</td>\n",
       "      <td>$</td>\n",
       "      <td>4.0</td>\n",
       "      <td>27</td>\n",
       "      <td>[pickup, delivery]</td>\n",
       "      <td>https://www.yelp.com/biz/potbelly-sandwich-sho...</td>\n",
       "    </tr>\n",
       "  </tbody>\n",
       "</table>\n",
       "</div>"
      ],
      "text/plain": [
       "   index                            alias  \\\n",
       "0      0                chaikhana-omaha-2   \n",
       "1      1            clever-greens-omaha-3   \n",
       "2      2          mcalisters-deli-omaha-3   \n",
       "3      3  picklemans-gourmet-cafe-omaha-2   \n",
       "4      4   potbelly-sandwich-shop-omaha-2   \n",
       "\n",
       "                                          categories  \\\n",
       "0  [{'alias': 'mideastern', 'title': 'Middle East...   \n",
       "1  [{'alias': 'salad', 'title': 'Salad'}, {'alias...   \n",
       "2  [{'alias': 'sandwiches', 'title': 'Sandwiches'...   \n",
       "3  [{'alias': 'salad', 'title': 'Salad'}, {'alias...   \n",
       "4  [{'alias': 'sandwiches', 'title': 'Sandwiches'...   \n",
       "\n",
       "                                         coordinates   display_phone  \\\n",
       "0   {'latitude': 41.280014, 'longitude': -96.052444}  (402) 979-5555   \n",
       "1   {'latitude': 41.267346, 'longitude': -96.068935}  (402) 932-9993   \n",
       "2      {'latitude': 41.25564, 'longitude': -96.0234}  (402) 403-3207   \n",
       "3  {'latitude': 41.2413355, 'longitude': -96.0147...  (402) 991-6700   \n",
       "4    {'latitude': 41.25925, 'longitude': -96.028502}  (402) 884-9947   \n",
       "\n",
       "      distance                      id  \\\n",
       "0  3374.978928  -4KRC6WFFyhkc6loJ8PbPQ   \n",
       "1  2551.183928  4BIsuRQsn7kd3aoI-b2cNw   \n",
       "2  2272.383747  GNORyEcFCHxV76oWw40iPw   \n",
       "3  3031.474998  -_b05yaenT2h0kIEzWDTpg   \n",
       "4  2037.631829  RYH88hL_cMqQ2zrhWkmavg   \n",
       "\n",
       "                                           image_url  is_closed  \\\n",
       "0  https://s3-media2.fl.yelpcdn.com/bphoto/FOSJXJ...      False   \n",
       "1  https://s3-media2.fl.yelpcdn.com/bphoto/R-eX0O...      False   \n",
       "2  https://s3-media2.fl.yelpcdn.com/bphoto/qV4Mi3...      False   \n",
       "3  https://s3-media4.fl.yelpcdn.com/bphoto/pJguB5...      False   \n",
       "4  https://s3-media4.fl.yelpcdn.com/bphoto/d_Xn5c...      False   \n",
       "\n",
       "                                            location  \\\n",
       "0  {'address1': '2329 North 90th St', 'address2':...   \n",
       "1  {'address1': '10000 California St', 'address2'...   \n",
       "2  {'address1': '603 S 72nd St', 'address2': '', ...   \n",
       "3  {'address1': '1908 S. 67th St', 'address2': ''...   \n",
       "4  {'address1': '7425 Dodge St', 'address2': 'Ste...   \n",
       "\n",
       "                       name         phone price  rating  review_count  \\\n",
       "0                 Chaikhana  +14029795555   NaN     5.0            20   \n",
       "1             Clever Greens  +14029329993   NaN     5.0             1   \n",
       "2          McAlister's Deli  +14024033207   NaN     4.5             5   \n",
       "3  Pickleman's Gourmet Cafe  +14029916700     $     4.0            40   \n",
       "4    Potbelly Sandwich Shop  +14028849947     $     4.0            27   \n",
       "\n",
       "         transactions                                                url  \n",
       "0  [pickup, delivery]  https://www.yelp.com/biz/chaikhana-omaha-2?adj...  \n",
       "1                  []  https://www.yelp.com/biz/clever-greens-omaha-3...  \n",
       "2                  []  https://www.yelp.com/biz/mcalisters-deli-omaha...  \n",
       "3                  []  https://www.yelp.com/biz/picklemans-gourmet-ca...  \n",
       "4  [pickup, delivery]  https://www.yelp.com/biz/potbelly-sandwich-sho...  "
      ]
     },
     "execution_count": 25,
     "metadata": {},
     "output_type": "execute_result"
    }
   ],
   "source": [
    "df.head()"
   ]
  },
  {
   "cell_type": "code",
   "execution_count": 26,
   "metadata": {},
   "outputs": [
    {
     "data": {
      "text/html": [
       "<div>\n",
       "<style scoped>\n",
       "    .dataframe tbody tr th:only-of-type {\n",
       "        vertical-align: middle;\n",
       "    }\n",
       "\n",
       "    .dataframe tbody tr th {\n",
       "        vertical-align: top;\n",
       "    }\n",
       "\n",
       "    .dataframe thead th {\n",
       "        text-align: right;\n",
       "    }\n",
       "</style>\n",
       "<table border=\"1\" class=\"dataframe\">\n",
       "  <thead>\n",
       "    <tr style=\"text-align: right;\">\n",
       "      <th></th>\n",
       "      <th>index</th>\n",
       "      <th>alias</th>\n",
       "      <th>categories</th>\n",
       "      <th>coordinates</th>\n",
       "      <th>display_phone</th>\n",
       "      <th>distance</th>\n",
       "      <th>id</th>\n",
       "      <th>image_url</th>\n",
       "      <th>is_closed</th>\n",
       "      <th>location</th>\n",
       "      <th>name</th>\n",
       "      <th>phone</th>\n",
       "      <th>price</th>\n",
       "      <th>rating</th>\n",
       "      <th>review_count</th>\n",
       "      <th>transactions</th>\n",
       "      <th>url</th>\n",
       "    </tr>\n",
       "  </thead>\n",
       "  <tbody>\n",
       "    <tr>\n",
       "      <th>35</th>\n",
       "      <td>15</td>\n",
       "      <td>mcalisters-deli-council-bluffs</td>\n",
       "      <td>[{'alias': 'salad', 'title': 'Salad'}, {'alias...</td>\n",
       "      <td>{'latitude': 41.2204231, 'longitude': -95.8372...</td>\n",
       "      <td>(712) 435-3197</td>\n",
       "      <td>18054.420674</td>\n",
       "      <td>bRoiUF3ukWN1H-XpXJMu-A</td>\n",
       "      <td>https://s3-media2.fl.yelpcdn.com/bphoto/6Lhbyh...</td>\n",
       "      <td>False</td>\n",
       "      <td>{'address1': '3808 Metro Drive', 'address2': N...</td>\n",
       "      <td>McAlister's Deli</td>\n",
       "      <td>+17124353197</td>\n",
       "      <td>NaN</td>\n",
       "      <td>4.5</td>\n",
       "      <td>12</td>\n",
       "      <td>[]</td>\n",
       "      <td>https://www.yelp.com/biz/mcalisters-deli-counc...</td>\n",
       "    </tr>\n",
       "    <tr>\n",
       "      <th>36</th>\n",
       "      <td>16</td>\n",
       "      <td>ollie-and-hobbes-craft-kitchen-papillion</td>\n",
       "      <td>[{'alias': 'newamerican', 'title': 'American (...</td>\n",
       "      <td>{'latitude': 41.1376652866602, 'longitude': -9...</td>\n",
       "      <td>(402) 884-3338</td>\n",
       "      <td>12486.059282</td>\n",
       "      <td>Phhu7ltBq_ZB8AxvJtrS8A</td>\n",
       "      <td>https://s3-media2.fl.yelpcdn.com/bphoto/t2lFVj...</td>\n",
       "      <td>False</td>\n",
       "      <td>{'address1': '310 E Gold Coast Rd', 'address2'...</td>\n",
       "      <td>Ollie and Hobbes Craft Kitchen</td>\n",
       "      <td>+14028843338</td>\n",
       "      <td>$$</td>\n",
       "      <td>4.0</td>\n",
       "      <td>207</td>\n",
       "      <td>[]</td>\n",
       "      <td>https://www.yelp.com/biz/ollie-and-hobbes-craf...</td>\n",
       "    </tr>\n",
       "    <tr>\n",
       "      <th>37</th>\n",
       "      <td>17</td>\n",
       "      <td>olive-garden-italian-restaurant-council-bluffs</td>\n",
       "      <td>[{'alias': 'italian', 'title': 'Italian'}, {'a...</td>\n",
       "      <td>{'latitude': 41.2225899, 'longitude': -95.83615}</td>\n",
       "      <td>(712) 366-0688</td>\n",
       "      <td>18087.344402</td>\n",
       "      <td>KhKcjP4IUZP68s7iQDsLVw</td>\n",
       "      <td>https://s3-media1.fl.yelpcdn.com/bphoto/V_hBL4...</td>\n",
       "      <td>False</td>\n",
       "      <td>{'address1': '3707 Denmark Dr', 'address2': ''...</td>\n",
       "      <td>Olive Garden Italian Restaurant</td>\n",
       "      <td>+17123660688</td>\n",
       "      <td>$$</td>\n",
       "      <td>3.5</td>\n",
       "      <td>31</td>\n",
       "      <td>[]</td>\n",
       "      <td>https://www.yelp.com/biz/olive-garden-italian-...</td>\n",
       "    </tr>\n",
       "    <tr>\n",
       "      <th>38</th>\n",
       "      <td>18</td>\n",
       "      <td>eat-fit-go-council-bluffs-council-bluffs</td>\n",
       "      <td>[{'alias': 'diyfood', 'title': 'Do-It-Yourself...</td>\n",
       "      <td>{'latitude': 41.219976, 'longitude': -95.837239}</td>\n",
       "      <td>(712) 256-3663</td>\n",
       "      <td>18042.844518</td>\n",
       "      <td>nSdcnmbE8s8B1IJBs7Y4RA</td>\n",
       "      <td>https://s3-media3.fl.yelpcdn.com/bphoto/4I9ALa...</td>\n",
       "      <td>False</td>\n",
       "      <td>{'address1': '3808 Metro Dr', 'address2': 'Ste...</td>\n",
       "      <td>Eat Fit Go Council Bluffs</td>\n",
       "      <td>+17122563663</td>\n",
       "      <td>NaN</td>\n",
       "      <td>4.5</td>\n",
       "      <td>3</td>\n",
       "      <td>[delivery, pickup]</td>\n",
       "      <td>https://www.yelp.com/biz/eat-fit-go-council-bl...</td>\n",
       "    </tr>\n",
       "    <tr>\n",
       "      <th>39</th>\n",
       "      <td>19</td>\n",
       "      <td>panera-bread-council-bluffs</td>\n",
       "      <td>[{'alias': 'sandwiches', 'title': 'Sandwiches'...</td>\n",
       "      <td>{'latitude': 41.2237678486907, 'longitude': -9...</td>\n",
       "      <td>(712) 366-8944</td>\n",
       "      <td>17965.600621</td>\n",
       "      <td>6gLatPpgW4h28H6VbSl8hA</td>\n",
       "      <td>https://s3-media2.fl.yelpcdn.com/bphoto/uJ0Eoy...</td>\n",
       "      <td>False</td>\n",
       "      <td>{'address1': '3617 Denmark Dr', 'address2': ''...</td>\n",
       "      <td>Panera Bread</td>\n",
       "      <td>+17123668944</td>\n",
       "      <td>$$</td>\n",
       "      <td>2.5</td>\n",
       "      <td>26</td>\n",
       "      <td>[]</td>\n",
       "      <td>https://www.yelp.com/biz/panera-bread-council-...</td>\n",
       "    </tr>\n",
       "  </tbody>\n",
       "</table>\n",
       "</div>"
      ],
      "text/plain": [
       "    index                                           alias  \\\n",
       "35     15                  mcalisters-deli-council-bluffs   \n",
       "36     16        ollie-and-hobbes-craft-kitchen-papillion   \n",
       "37     17  olive-garden-italian-restaurant-council-bluffs   \n",
       "38     18        eat-fit-go-council-bluffs-council-bluffs   \n",
       "39     19                     panera-bread-council-bluffs   \n",
       "\n",
       "                                           categories  \\\n",
       "35  [{'alias': 'salad', 'title': 'Salad'}, {'alias...   \n",
       "36  [{'alias': 'newamerican', 'title': 'American (...   \n",
       "37  [{'alias': 'italian', 'title': 'Italian'}, {'a...   \n",
       "38  [{'alias': 'diyfood', 'title': 'Do-It-Yourself...   \n",
       "39  [{'alias': 'sandwiches', 'title': 'Sandwiches'...   \n",
       "\n",
       "                                          coordinates   display_phone  \\\n",
       "35  {'latitude': 41.2204231, 'longitude': -95.8372...  (712) 435-3197   \n",
       "36  {'latitude': 41.1376652866602, 'longitude': -9...  (402) 884-3338   \n",
       "37   {'latitude': 41.2225899, 'longitude': -95.83615}  (712) 366-0688   \n",
       "38   {'latitude': 41.219976, 'longitude': -95.837239}  (712) 256-3663   \n",
       "39  {'latitude': 41.2237678486907, 'longitude': -9...  (712) 366-8944   \n",
       "\n",
       "        distance                      id  \\\n",
       "35  18054.420674  bRoiUF3ukWN1H-XpXJMu-A   \n",
       "36  12486.059282  Phhu7ltBq_ZB8AxvJtrS8A   \n",
       "37  18087.344402  KhKcjP4IUZP68s7iQDsLVw   \n",
       "38  18042.844518  nSdcnmbE8s8B1IJBs7Y4RA   \n",
       "39  17965.600621  6gLatPpgW4h28H6VbSl8hA   \n",
       "\n",
       "                                            image_url  is_closed  \\\n",
       "35  https://s3-media2.fl.yelpcdn.com/bphoto/6Lhbyh...      False   \n",
       "36  https://s3-media2.fl.yelpcdn.com/bphoto/t2lFVj...      False   \n",
       "37  https://s3-media1.fl.yelpcdn.com/bphoto/V_hBL4...      False   \n",
       "38  https://s3-media3.fl.yelpcdn.com/bphoto/4I9ALa...      False   \n",
       "39  https://s3-media2.fl.yelpcdn.com/bphoto/uJ0Eoy...      False   \n",
       "\n",
       "                                             location  \\\n",
       "35  {'address1': '3808 Metro Drive', 'address2': N...   \n",
       "36  {'address1': '310 E Gold Coast Rd', 'address2'...   \n",
       "37  {'address1': '3707 Denmark Dr', 'address2': ''...   \n",
       "38  {'address1': '3808 Metro Dr', 'address2': 'Ste...   \n",
       "39  {'address1': '3617 Denmark Dr', 'address2': ''...   \n",
       "\n",
       "                               name         phone price  rating  review_count  \\\n",
       "35                 McAlister's Deli  +17124353197   NaN     4.5            12   \n",
       "36   Ollie and Hobbes Craft Kitchen  +14028843338    $$     4.0           207   \n",
       "37  Olive Garden Italian Restaurant  +17123660688    $$     3.5            31   \n",
       "38        Eat Fit Go Council Bluffs  +17122563663   NaN     4.5             3   \n",
       "39                     Panera Bread  +17123668944    $$     2.5            26   \n",
       "\n",
       "          transactions                                                url  \n",
       "35                  []  https://www.yelp.com/biz/mcalisters-deli-counc...  \n",
       "36                  []  https://www.yelp.com/biz/ollie-and-hobbes-craf...  \n",
       "37                  []  https://www.yelp.com/biz/olive-garden-italian-...  \n",
       "38  [delivery, pickup]  https://www.yelp.com/biz/eat-fit-go-council-bl...  \n",
       "39                  []  https://www.yelp.com/biz/panera-bread-council-...  "
      ]
     },
     "execution_count": 26,
     "metadata": {},
     "output_type": "execute_result"
    }
   ],
   "source": [
    "df.tail()"
   ]
  },
  {
   "cell_type": "markdown",
   "metadata": {},
   "source": [
    "## Exploratory Analysis\n",
    "\n",
    "Take the restaurants from the previous question and do an initial exploratory analysis. At minimum, this should include looking at the distribution of features such as price, rating and number of reviews as well as the relations between these dimensions."
   ]
  },
  {
   "cell_type": "code",
   "execution_count": 27,
   "metadata": {},
   "outputs": [],
   "source": [
    "import matplotlib\n",
    "%matplotlib inline"
   ]
  },
  {
   "cell_type": "code",
   "execution_count": 28,
   "metadata": {},
   "outputs": [
    {
     "data": {
      "text/plain": [
       "<matplotlib.axes._subplots.AxesSubplot at 0x7fa22de520f0>"
      ]
     },
     "execution_count": 28,
     "metadata": {},
     "output_type": "execute_result"
    },
    {
     "data": {
      "image/png": "[encoded data removed]",
      "text/plain": [
       "<Figure size 432x288 with 1 Axes>"
      ]
     },
     "metadata": {
      "needs_background": "light"
     },
     "output_type": "display_data"
    }
   ],
   "source": [
    "df['price'].dropna().apply(lambda x: len(x)).value_counts().plot(kind='bar')"
   ]
  },
  {
   "cell_type": "code",
   "execution_count": 29,
   "metadata": {},
   "outputs": [
    {
     "data": {
      "text/plain": [
       "<matplotlib.axes._subplots.AxesSubplot at 0x7fa22de00710>"
      ]
     },
     "execution_count": 29,
     "metadata": {},
     "output_type": "execute_result"
    },
    {
     "data": {
      "image/png": "[encoded data removed]",
      "text/plain": [
       "<Figure size 432x288 with 1 Axes>"
      ]
     },
     "metadata": {
      "needs_background": "light"
     },
     "output_type": "display_data"
    }
   ],
   "source": [
    "df['rating'].dropna().value_counts().plot(kind='bar')"
   ]
  },
  {
   "cell_type": "code",
   "execution_count": 30,
   "metadata": {},
   "outputs": [
    {
     "data": {
      "text/plain": [
       "Index(['index', 'alias', 'categories', 'coordinates', 'display_phone',\n",
       "       'distance', 'id', 'image_url', 'is_closed', 'location', 'name', 'phone',\n",
       "       'price', 'rating', 'review_count', 'transactions', 'url'],\n",
       "      dtype='object')"
      ]
     },
     "execution_count": 30,
     "metadata": {},
     "output_type": "execute_result"
    }
   ],
   "source": [
    "df.columns"
   ]
  },
  {
   "cell_type": "code",
   "execution_count": 31,
   "metadata": {},
   "outputs": [
    {
     "data": {
      "text/plain": [
       "<matplotlib.axes._subplots.AxesSubplot at 0x7fa22ddd0438>"
      ]
     },
     "execution_count": 31,
     "metadata": {},
     "output_type": "execute_result"
    },
    {
     "data": {
      "image/png": "[encoded data removed]",
      "text/plain": [
       "<Figure size 432x288 with 1 Axes>"
      ]
     },
     "metadata": {
      "needs_background": "light"
     },
     "output_type": "display_data"
    }
   ],
   "source": [
    "df['review_count'].dropna().plot(kind='hist')"
   ]
  },
  {
   "cell_type": "code",
   "execution_count": 32,
   "metadata": {},
   "outputs": [],
   "source": [
    "df['price'] = df['price'].fillna(value='$').apply(lambda x: len(x))"
   ]
  },
  {
   "cell_type": "code",
   "execution_count": 33,
   "metadata": {},
   "outputs": [],
   "source": [
    "df_to_analyze = df.loc[:, ['review_count', 'rating', 'price']].fillna(value=0.0)"
   ]
  },
  {
   "cell_type": "code",
   "execution_count": 34,
   "metadata": {},
   "outputs": [
    {
     "data": {
      "text/plain": [
       "array([[<matplotlib.axes._subplots.AxesSubplot object at 0x7fa22dcfba20>,\n",
       "        <matplotlib.axes._subplots.AxesSubplot object at 0x7fa22dca6b38>,\n",
       "        <matplotlib.axes._subplots.AxesSubplot object at 0x7fa22dc560f0>],\n",
       "       [<matplotlib.axes._subplots.AxesSubplot object at 0x7fa22dc7d668>,\n",
       "        <matplotlib.axes._subplots.AxesSubplot object at 0x7fa22dc25be0>,\n",
       "        <matplotlib.axes._subplots.AxesSubplot object at 0x7fa22dbd7198>],\n",
       "       [<matplotlib.axes._subplots.AxesSubplot object at 0x7fa22dbfd710>,\n",
       "        <matplotlib.axes._subplots.AxesSubplot object at 0x7fa22dba5cc0>,\n",
       "        <matplotlib.axes._subplots.AxesSubplot object at 0x7fa22dba5cf8>]],\n",
       "      dtype=object)"
      ]
     },
     "execution_count": 34,
     "metadata": {},
     "output_type": "execute_result"
    },
    {
     "data": {
      "image/png": "[encoded data removed]",
      "text/plain": [
       "<Figure size 432x288 with 9 Axes>"
      ]
     },
     "metadata": {
      "needs_background": "light"
     },
     "output_type": "display_data"
    }
   ],
   "source": [
    "pd.plotting.scatter_matrix(df_to_analyze)"
   ]
  },
  {
   "cell_type": "code",
   "execution_count": 35,
   "metadata": {},
   "outputs": [
    {
     "data": {
      "text/html": [
       "<div>\n",
       "<style scoped>\n",
       "    .dataframe tbody tr th:only-of-type {\n",
       "        vertical-align: middle;\n",
       "    }\n",
       "\n",
       "    .dataframe tbody tr th {\n",
       "        vertical-align: top;\n",
       "    }\n",
       "\n",
       "    .dataframe thead th {\n",
       "        text-align: right;\n",
       "    }\n",
       "</style>\n",
       "<table border=\"1\" class=\"dataframe\">\n",
       "  <thead>\n",
       "    <tr style=\"text-align: right;\">\n",
       "      <th></th>\n",
       "      <th>review_count</th>\n",
       "      <th>rating</th>\n",
       "      <th>price</th>\n",
       "    </tr>\n",
       "  </thead>\n",
       "  <tbody>\n",
       "    <tr>\n",
       "      <th>review_count</th>\n",
       "      <td>1.000000</td>\n",
       "      <td>0.040067</td>\n",
       "      <td>0.472201</td>\n",
       "    </tr>\n",
       "    <tr>\n",
       "      <th>rating</th>\n",
       "      <td>0.040067</td>\n",
       "      <td>1.000000</td>\n",
       "      <td>-0.353848</td>\n",
       "    </tr>\n",
       "    <tr>\n",
       "      <th>price</th>\n",
       "      <td>0.472201</td>\n",
       "      <td>-0.353848</td>\n",
       "      <td>1.000000</td>\n",
       "    </tr>\n",
       "  </tbody>\n",
       "</table>\n",
       "</div>"
      ],
      "text/plain": [
       "              review_count    rating     price\n",
       "review_count      1.000000  0.040067  0.472201\n",
       "rating            0.040067  1.000000 -0.353848\n",
       "price             0.472201 -0.353848  1.000000"
      ]
     },
     "execution_count": 35,
     "metadata": {},
     "output_type": "execute_result"
    }
   ],
   "source": [
    "df_to_analyze.corr()"
   ]
  },
  {
   "cell_type": "markdown",
   "metadata": {},
   "source": [
    "## Mapping\n",
    "\n",
    "Look at the initial Yelp example and try and make a map using Folium of the restaurants you retrieved. Be sure to also add popups to the markers giving some basic information such as name, rating and price."
   ]
  },
  {
   "cell_type": "code",
   "execution_count": 36,
   "metadata": {},
   "outputs": [],
   "source": [
    "import folium\n",
    "import numpy as np"
   ]
  },
  {
   "cell_type": "code",
   "execution_count": 37,
   "metadata": {},
   "outputs": [
    {
     "ename": "ValueError",
     "evalue": "malformed node or string: {'address1': '2329 North 90th St', 'address2': '', 'address3': None, 'city': 'Omaha', 'zip_code': '68134', 'country': 'US', 'state': 'NE', 'display_address': ['2329 North 90th St', 'Omaha, NE 68134']}",
     "output_type": "error",
     "traceback": [
      "\u001b[0;31m\u001b[0m",
      "\u001b[0;31mValueError\u001b[0mTraceback (most recent call last)",
      "\u001b[0;32m<ipython-input-37-c5b1938fb2ed>\u001b[0m in \u001b[0;36m<module>\u001b[0;34m()\u001b[0m\n\u001b[1;32m      1\u001b[0m \u001b[0;32mimport\u001b[0m \u001b[0mast\u001b[0m\u001b[0;34m\u001b[0m\u001b[0m\n\u001b[0;32m----> 2\u001b[0;31m \u001b[0mast\u001b[0m\u001b[0;34m.\u001b[0m\u001b[0mliteral_eval\u001b[0m\u001b[0;34m(\u001b[0m\u001b[0mdf\u001b[0m\u001b[0;34m[\u001b[0m\u001b[0;34m'location'\u001b[0m\u001b[0;34m]\u001b[0m\u001b[0;34m[\u001b[0m\u001b[0;36m0\u001b[0m\u001b[0;34m]\u001b[0m\u001b[0;34m)\u001b[0m\u001b[0;34m\u001b[0m\u001b[0m\n\u001b[0m",
      "\u001b[0;32m/opt/conda/envs/learn-env/lib/python3.6/ast.py\u001b[0m in \u001b[0;36mliteral_eval\u001b[0;34m(node_or_string)\u001b[0m\n\u001b[1;32m     83\u001b[0m                     \u001b[0;32mreturn\u001b[0m \u001b[0mleft\u001b[0m \u001b[0;34m-\u001b[0m \u001b[0mright\u001b[0m\u001b[0;34m\u001b[0m\u001b[0m\n\u001b[1;32m     84\u001b[0m         \u001b[0;32mraise\u001b[0m \u001b[0mValueError\u001b[0m\u001b[0;34m(\u001b[0m\u001b[0;34m'malformed node or string: '\u001b[0m \u001b[0;34m+\u001b[0m \u001b[0mrepr\u001b[0m\u001b[0;34m(\u001b[0m\u001b[0mnode\u001b[0m\u001b[0;34m)\u001b[0m\u001b[0;34m)\u001b[0m\u001b[0;34m\u001b[0m\u001b[0m\n\u001b[0;32m---> 85\u001b[0;31m     \u001b[0;32mreturn\u001b[0m \u001b[0m_convert\u001b[0m\u001b[0;34m(\u001b[0m\u001b[0mnode_or_string\u001b[0m\u001b[0;34m)\u001b[0m\u001b[0;34m\u001b[0m\u001b[0m\n\u001b[0m\u001b[1;32m     86\u001b[0m \u001b[0;34m\u001b[0m\u001b[0m\n\u001b[1;32m     87\u001b[0m \u001b[0;34m\u001b[0m\u001b[0m\n",
      "\u001b[0;32m/opt/conda/envs/learn-env/lib/python3.6/ast.py\u001b[0m in \u001b[0;36m_convert\u001b[0;34m(node)\u001b[0m\n\u001b[1;32m     82\u001b[0m                 \u001b[0;32melse\u001b[0m\u001b[0;34m:\u001b[0m\u001b[0;34m\u001b[0m\u001b[0m\n\u001b[1;32m     83\u001b[0m                     \u001b[0;32mreturn\u001b[0m \u001b[0mleft\u001b[0m \u001b[0;34m-\u001b[0m \u001b[0mright\u001b[0m\u001b[0;34m\u001b[0m\u001b[0m\n\u001b[0;32m---> 84\u001b[0;31m         \u001b[0;32mraise\u001b[0m \u001b[0mValueError\u001b[0m\u001b[0;34m(\u001b[0m\u001b[0;34m'malformed node or string: '\u001b[0m \u001b[0;34m+\u001b[0m \u001b[0mrepr\u001b[0m\u001b[0;34m(\u001b[0m\u001b[0mnode\u001b[0m\u001b[0;34m)\u001b[0m\u001b[0;34m)\u001b[0m\u001b[0;34m\u001b[0m\u001b[0m\n\u001b[0m\u001b[1;32m     85\u001b[0m     \u001b[0;32mreturn\u001b[0m \u001b[0m_convert\u001b[0m\u001b[0;34m(\u001b[0m\u001b[0mnode_or_string\u001b[0m\u001b[0;34m)\u001b[0m\u001b[0;34m\u001b[0m\u001b[0m\n\u001b[1;32m     86\u001b[0m \u001b[0;34m\u001b[0m\u001b[0m\n",
      "\u001b[0;31mValueError\u001b[0m: malformed node or string: {'address1': '2329 North 90th St', 'address2': '', 'address3': None, 'city': 'Omaha', 'zip_code': '68134', 'country': 'US', 'state': 'NE', 'display_address': ['2329 North 90th St', 'Omaha, NE 68134']}"
     ]
    }
   ],
   "source": [
    "import ast\n",
    "ast.literal_eval(df['coordinates'][0])"
   ]
  },
  {
   "cell_type": "code",
   "execution_count": null,
   "metadata": {},
   "outputs": [],
   "source": [
    "type(ast.literal_eval(\"{'test':0}\"))"
   ]
  },
  {
   "cell_type": "code",
   "execution_count": null,
   "metadata": {},
   "outputs": [],
   "source": [
    "lat = \n",
    "long = -0.14\n",
    "\n",
    "#Create a map of the area\n",
    "base_map = folium.Map([lat, long], zoom_start=13)\n",
    "\n",
    "points = list(zip(x, y))\n",
    "for p in points:\n",
    "    lat = p[0]\n",
    "    long = p[1]\n",
    "    marker = folium.Marker(location=[lat, long])\n",
    "    marker.add_to(base_map)\n",
    "\n",
    "for p in points:\n",
    "    lat = p[0]\n",
    "    long = p[1]\n",
    "    popup_text = \"Latitude: {}, Longitude: {}\".format(lat,long)\n",
    "    popup = folium.Popup(popup_text, parse_html=True)\n",
    "    marker = folium.Marker(location=[lat, long], popup=popup)\n",
    "    marker.add_to(base_map)\n",
    "base_map"
   ]
  },
  {
   "cell_type": "markdown",
   "metadata": {},
   "source": [
    "## Summary\n",
    "\n",
    "Nice work! In this lab, you synthesized your skills for the day, making multiple API calls to Yelp in order to paginate through a results set, performing some basic exploratory analysis and then creating a nice map visual to display the results! Well done!"
   ]
  }
 ],
 "metadata": {
  "kernelspec": {
   "display_name": "Python 3",
   "language": "python",
   "name": "python3"
  },
  "language_info": {
   "codemirror_mode": {
    "name": "ipython",
    "version": 3
   },
   "file_extension": ".py",
   "mimetype": "text/x-python",
   "name": "python",
   "nbconvert_exporter": "python",
   "pygments_lexer": "ipython3",
   "version": "3.6.6"
  }
 },
 "nbformat": 4,
 "nbformat_minor": 2
}
